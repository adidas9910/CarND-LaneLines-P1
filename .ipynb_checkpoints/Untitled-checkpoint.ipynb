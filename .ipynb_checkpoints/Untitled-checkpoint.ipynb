{
 "cells": [
  {
   "cell_type": "code",
   "execution_count": null,
   "metadata": {},
   "outputs": [],
   "source": [
    "import numpy as np\n",
    "import matplotlib.pyplot as plt\n",
    "\n",
    "A = np.array([[252, 686, 494, 523],\n",
    " [533, 670, 569, 670],\n",
    " [218, 686, 325, 684],\n",
    " [185, 682, 289, 680],\n",
    " [273, 686, 347, 638],\n",
    " [373, 682, 510, 671],\n",
    " [247, 686, 430, 593],\n",
    " [190, 683, 264, 680],\n",
    " [386, 597, 450, 553],\n",
    " [279, 669, 304, 669],\n",
    " [264, 679, 347, 683],\n",
    " [284, 683, 313, 661],\n",
    " [487, 528, 541, 502],\n",
    " [259, 686, 318, 642],\n",
    " [591, 439, 633, 413],\n",
    " [336, 600, 357, 588],\n",
    " [256, 684, 330, 635],\n",
    " [271, 686, 365, 625],\n",
    " [577, 442, 614, 418],\n",
    " [317, 643, 434, 596],\n",
    " [587, 440, 632, 412],\n",
    " [261, 686, 376, 603],\n",
    " [276, 686, 325, 654],\n",
    " [564, 445, 605, 418]])"
   ]
  },
  {
   "cell_type": "code",
   "execution_count": null,
   "metadata": {},
   "outputs": [],
   "source": [
    "from sklearn.linear_model import LinearRegression\n",
    "B = np.reshape(A, (A.shape[0]*2, 2))\n",
    "print(B[:][0].shape)\n",
    "x = B[:,[0]]\n",
    "y = B[:,[1]]\n",
    "plt.scatter(x, y)\n",
    "reg = LinearRegression().fit(x, y)\n",
    "print(reg.score(x, y))\n",
    "print(reg.intercept_)\n",
    "print(reg.coef_)\n",
    "x1 = 200\n",
    "x2 = 600\n",
    "x_pts = np.linspace(x1,x2,100).reshape(-1, 1)\n",
    "y_pts = reg.predict(x_pts)\n",
    "plt.plot(x_pts, y_pts, color='red')"
   ]
  },
  {
   "cell_type": "code",
   "execution_count": null,
   "metadata": {},
   "outputs": [],
   "source": [
    "print(A[:,[0]].mean())\n",
    "print(A[:,[1]].mean())\n",
    "print(A[:,[2]].mean())\n",
    "print(A[:,[3]].mean())\n",
    "print((A[:,[3]].mean()-A[:,[1]].mean())/(A[:,[2]].mean()-A[:,[0]].mean()))\n",
    "\n"
   ]
  }
 ],
 "metadata": {
  "kernelspec": {
   "display_name": "Python 3",
   "language": "python",
   "name": "python3"
  },
  "language_info": {
   "codemirror_mode": {
    "name": "ipython",
    "version": 3
   },
   "file_extension": ".py",
   "mimetype": "text/x-python",
   "name": "python",
   "nbconvert_exporter": "python",
   "pygments_lexer": "ipython3",
   "version": "3.8.3"
  }
 },
 "nbformat": 4,
 "nbformat_minor": 4
}

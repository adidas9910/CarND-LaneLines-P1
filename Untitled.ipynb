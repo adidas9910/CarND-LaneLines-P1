{
 "cells": [
  {
   "cell_type": "code",
   "execution_count": 38,
   "metadata": {},
   "outputs": [],
   "source": [
    "import numpy as np\n",
    "import matplotlib.pyplot as plt\n",
    "\n",
    "A = np.array([[252, 686, 494, 523],\n",
    " [533, 670, 569, 670],\n",
    " [218, 686, 325, 684],\n",
    " [185, 682, 289, 680],\n",
    " [273, 686, 347, 638],\n",
    " [373, 682, 510, 671],\n",
    " [247, 686, 430, 593],\n",
    " [190, 683, 264, 680],\n",
    " [386, 597, 450, 553],\n",
    " [279, 669, 304, 669],\n",
    " [264, 679, 347, 683],\n",
    " [284, 683, 313, 661],\n",
    " [487, 528, 541, 502],\n",
    " [259, 686, 318, 642],\n",
    " [591, 439, 633, 413],\n",
    " [336, 600, 357, 588],\n",
    " [256, 684, 330, 635],\n",
    " [271, 686, 365, 625],\n",
    " [577, 442, 614, 418],\n",
    " [317, 643, 434, 596],\n",
    " [587, 440, 632, 412],\n",
    " [261, 686, 376, 603],\n",
    " [276, 686, 325, 654],\n",
    " [564, 445, 605, 418]])"
   ]
  },
  {
   "cell_type": "code",
   "execution_count": 39,
   "metadata": {},
   "outputs": [
    {
     "name": "stdout",
     "output_type": "stream",
     "text": [
      "(2,)\n",
      "0.7359685450245914\n",
      "[844.43288861]\n",
      "[[-0.61111718]]\n"
     ]
    },
    {
     "data": {
      "text/plain": [
       "[<matplotlib.lines.Line2D at 0x1d5ec9f30a0>]"
      ]
     },
     "execution_count": 39,
     "metadata": {},
     "output_type": "execute_result"
    },
    {
     "data": {
      "image/png": "[encoded data removed]",
      "text/plain": [
       "<Figure size 432x288 with 1 Axes>"
      ]
     },
     "metadata": {
      "needs_background": "light"
     },
     "output_type": "display_data"
    }
   ],
   "source": [
    "from sklearn.linear_model import LinearRegression\n",
    "B = np.reshape(A, (A.shape[0]*2, 2))\n",
    "print(B[:][0].shape)\n",
    "x = B[:,[0]]\n",
    "y = B[:,[1]]\n",
    "plt.scatter(x, y)\n",
    "reg = LinearRegression().fit(x, y)\n",
    "print(reg.score(x, y))\n",
    "print(reg.intercept_)\n",
    "print(reg.coef_)\n",
    "x1 = 200\n",
    "x2 = 600\n",
    "x_pts = np.linspace(x1,x2,100).reshape(-1, 1)\n",
    "y_pts = reg.predict(x_pts)\n",
    "plt.plot(x_pts, y_pts, color='red')"
   ]
  },
  {
   "cell_type": "code",
   "execution_count": 40,
   "metadata": {},
   "outputs": [
    {
     "name": "stdout",
     "output_type": "stream",
     "text": [
      "344.4166666666667\n",
      "627.25\n",
      "423.8333333333333\n",
      "592.125\n",
      "-0.4422875131164745\n"
     ]
    }
   ],
   "source": [
    "print(A[:,[0]].mean())\n",
    "print(A[:,[1]].mean())\n",
    "print(A[:,[2]].mean())\n",
    "print(A[:,[3]].mean())\n",
    "print((A[:,[3]].mean()-A[:,[1]].mean())/(A[:,[2]].mean()-A[:,[0]].mean()))\n",
    "\n"
   ]
  },
  {
   "cell_type": "code",
   "execution_count": 47,
   "metadata": {},
   "outputs": [
    {
     "name": "stdout",
     "output_type": "stream",
     "text": [
      "0\n"
     ]
    }
   ],
   "source": [
    "id = (np.argmax(abs(A[:,[2]]-A[:,[0]])))\n",
    "print(id)"
   ]
  },
  {
   "cell_type": "code",
   "execution_count": 48,
   "metadata": {},
   "outputs": [
    {
     "data": {
      "text/plain": [
       "array([163,   0,   2,   2,  48,  11,  93,   3,  44,   0,   4,  22,  26,\n",
       "        44,  26,  12,  49,  61,  24,  47,  28,  83,  32,  27])"
      ]
     },
     "execution_count": 48,
     "metadata": {},
     "output_type": "execute_result"
    }
   ],
   "source": [
    "abs(A[:,3]-A[:,1])\n"
   ]
  },
  {
   "cell_type": "code",
   "execution_count": 49,
   "metadata": {},
   "outputs": [
    {
     "data": {
      "text/plain": [
       "array([-0.67355372])"
      ]
     },
     "execution_count": 49,
     "metadata": {},
     "output_type": "execute_result"
    }
   ],
   "source": [
    "(A[id,[3]]-A[id,[1]])/(A[id,[2]]-A[id,[0]])"
   ]
  },
  {
   "cell_type": "code",
   "execution_count": null,
   "metadata": {},
   "outputs": [],
   "source": []
  }
 ],
 "metadata": {
  "kernelspec": {
   "display_name": "Python 3",
   "language": "python",
   "name": "python3"
  },
  "language_info": {
   "codemirror_mode": {
    "name": "ipython",
    "version": 3
   },
   "file_extension": ".py",
   "mimetype": "text/x-python",
   "name": "python",
   "nbconvert_exporter": "python",
   "pygments_lexer": "ipython3",
   "version": "3.8.3"
  }
 },
 "nbformat": 4,
 "nbformat_minor": 4
}
